{
  "nbformat": 4,
  "nbformat_minor": 0,
  "metadata": {
    "colab": {
      "provenance": [],
      "authorship_tag": "ABX9TyNRg0DGzfK/bEG11M2I0fsj",
      "include_colab_link": true
    },
    "kernelspec": {
      "name": "python3",
      "display_name": "Python 3"
    },
    "language_info": {
      "name": "python"
    }
  },
  "cells": [
    {
      "cell_type": "markdown",
      "metadata": {
        "id": "view-in-github",
        "colab_type": "text"
      },
      "source": [
        "<a href=\"https://colab.research.google.com/github/CatarsisXXI/BD-Avan.-Big-Data/blob/main/Acciones_RDD.ipynb\" target=\"_parent\"><img src=\"https://colab.research.google.com/assets/colab-badge.svg\" alt=\"Open In Colab\"/></a>"
      ]
    },
    {
      "cell_type": "code",
      "execution_count": 1,
      "metadata": {
        "colab": {
          "base_uri": "https://localhost:8080/"
        },
        "id": "ZBn8h6-Vh14m",
        "outputId": "913c7782-8598-4327-e203-8c06fdd882bc"
      },
      "outputs": [
        {
          "output_type": "stream",
          "name": "stdout",
          "text": [
            "Requirement already satisfied: pyspark in /usr/local/lib/python3.10/dist-packages (3.5.3)\n",
            "Requirement already satisfied: py4j==0.10.9.7 in /usr/local/lib/python3.10/dist-packages (from pyspark) (0.10.9.7)\n"
          ]
        }
      ],
      "source": [
        "pip install pyspark"
      ]
    },
    {
      "cell_type": "code",
      "source": [
        "from pyspark.context import SparkContext"
      ],
      "metadata": {
        "id": "1n995qxelmzp"
      },
      "execution_count": 2,
      "outputs": []
    },
    {
      "cell_type": "code",
      "source": [
        "from pyspark import SparkContext\n",
        "from pyspark import SparkConf"
      ],
      "metadata": {
        "id": "_snzldNolqiw"
      },
      "execution_count": 3,
      "outputs": []
    },
    {
      "cell_type": "code",
      "source": [
        "from pyspark.sql import *\n",
        "from pyspark.sql.functions import *"
      ],
      "metadata": {
        "id": "R7FOr6BVlz6Q"
      },
      "execution_count": 4,
      "outputs": []
    },
    {
      "cell_type": "code",
      "source": [
        "# Creamos una configuración de Spark y un SparkContext\n",
        "conf = SparkConf().setAppName(\"RDD Actions Examples\").setMaster(\"local\")\n",
        "sc = SparkContext(conf=conf)"
      ],
      "metadata": {
        "id": "boT76zr2l94Q"
      },
      "execution_count": 5,
      "outputs": []
    },
    {
      "cell_type": "code",
      "source": [
        "# Creamos un RDD básico para los ejemplos\n",
        "rdd = sc.parallelize([1, 2, 3, 4, 5])"
      ],
      "metadata": {
        "id": "TuKIFfHNmBow"
      },
      "execution_count": 6,
      "outputs": []
    },
    {
      "cell_type": "code",
      "source": [
        "# Ejemplo 1: reduce\n",
        "# Reduce todos los elementos del RDD usando la función especificada (suma en este caso).\n",
        "sum_result = rdd.reduce(lambda x, y: x + y)\n",
        "print(\"reduce:\", sum_result)"
      ],
      "metadata": {
        "colab": {
          "base_uri": "https://localhost:8080/"
        },
        "id": "NVSBKo9UmEHw",
        "outputId": "49456ff6-a611-40b6-ddcc-cd7faf3e2e77"
      },
      "execution_count": 7,
      "outputs": [
        {
          "output_type": "stream",
          "name": "stdout",
          "text": [
            "reduce: 15\n"
          ]
        }
      ]
    },
    {
      "cell_type": "code",
      "source": [
        "# Ejemplo 2: collect\n",
        "# Recoge todos los elementos del RDD en una lista.\n",
        "collected_data = rdd.collect()\n",
        "print(\"collect:\", collected_data)"
      ],
      "metadata": {
        "colab": {
          "base_uri": "https://localhost:8080/"
        },
        "id": "7G3aGZZqmHjQ",
        "outputId": "2d6e2e20-349b-4492-e902-b4ea8bba98a7"
      },
      "execution_count": 8,
      "outputs": [
        {
          "output_type": "stream",
          "name": "stdout",
          "text": [
            "collect: [1, 2, 3, 4, 5]\n"
          ]
        }
      ]
    },
    {
      "cell_type": "code",
      "source": [
        "# Ejemplo 3: count\n",
        "# Cuenta el número de elementos en el RDD.\n",
        "element_count = rdd.count()\n",
        "print(\"count:\", element_count)"
      ],
      "metadata": {
        "colab": {
          "base_uri": "https://localhost:8080/"
        },
        "id": "NuFNpfUPmKCw",
        "outputId": "72678e55-c465-4387-d9c2-6a24ab8fc41e"
      },
      "execution_count": 9,
      "outputs": [
        {
          "output_type": "stream",
          "name": "stdout",
          "text": [
            "count: 5\n"
          ]
        }
      ]
    },
    {
      "cell_type": "code",
      "source": [
        "# Ejemplo 4: first\n",
        "# Obtiene el primer elemento del RDD.\n",
        "first_element = rdd.first()\n",
        "print(\"first:\", first_element)"
      ],
      "metadata": {
        "colab": {
          "base_uri": "https://localhost:8080/"
        },
        "id": "xwabfXIemL7g",
        "outputId": "5ab7ef69-f575-42a8-bedb-94a9a5b04e1b"
      },
      "execution_count": 10,
      "outputs": [
        {
          "output_type": "stream",
          "name": "stdout",
          "text": [
            "first: 1\n"
          ]
        }
      ]
    },
    {
      "cell_type": "code",
      "source": [
        "# Ejemplo 5: take\n",
        "# Toma los primeros n elementos del RDD.\n",
        "first_three_elements = rdd.take(3)\n",
        "print(\"take:\", first_three_elements)"
      ],
      "metadata": {
        "colab": {
          "base_uri": "https://localhost:8080/"
        },
        "id": "F76ithRzmN2Y",
        "outputId": "3c7255de-5b52-49d5-fc77-b48d25141b03"
      },
      "execution_count": 11,
      "outputs": [
        {
          "output_type": "stream",
          "name": "stdout",
          "text": [
            "take: [1, 2, 3]\n"
          ]
        }
      ]
    },
    {
      "cell_type": "code",
      "source": [
        "# Ejemplo 6: saveAsTextFile\n",
        "# Guarda el contenido del RDD en archivos de texto en la carpeta especificada.\n",
        "rdd.saveAsTextFile(\"output_rdd\")"
      ],
      "metadata": {
        "id": "PW4gAePXmQAQ"
      },
      "execution_count": 12,
      "outputs": []
    },
    {
      "cell_type": "code",
      "source": [
        "# Ejemplo 7: max\n",
        "# Encuentra el valor máximo en el RDD.\n",
        "max_value = rdd.max()\n",
        "print(\"max:\", max_value)"
      ],
      "metadata": {
        "colab": {
          "base_uri": "https://localhost:8080/"
        },
        "id": "TvYBcFanmS1Y",
        "outputId": "0f6527de-26a0-4451-c164-4a7f05cdc390"
      },
      "execution_count": 13,
      "outputs": [
        {
          "output_type": "stream",
          "name": "stdout",
          "text": [
            "max: 5\n"
          ]
        }
      ]
    },
    {
      "cell_type": "code",
      "source": [
        "# Ejemplo 8: min\n",
        "# Encuentra el valor mínimo en el RDD.\n",
        "min_value = rdd.min()\n",
        "print(\"min:\", min_value)"
      ],
      "metadata": {
        "colab": {
          "base_uri": "https://localhost:8080/"
        },
        "id": "trlijOWKmWEv",
        "outputId": "827d457f-3e71-4ec5-c22d-a09073a69e20"
      },
      "execution_count": 14,
      "outputs": [
        {
          "output_type": "stream",
          "name": "stdout",
          "text": [
            "min: 1\n"
          ]
        }
      ]
    },
    {
      "cell_type": "code",
      "source": [
        "# Para countByKey, necesitamos un RDD de pares clave-valor\n",
        "rdd_kv = sc.parallelize([(\"a\", 1), (\"b\", 1), (\"a\", 1), (\"b\", 1), (\"c\", 1)])"
      ],
      "metadata": {
        "id": "jVp1PZPkmZOo"
      },
      "execution_count": 15,
      "outputs": []
    },
    {
      "cell_type": "code",
      "source": [
        "# Ejemplo 9: countByKey\n",
        "# Cuenta los elementos por clave en un RDD de pares clave-valor.\n",
        "key_counts = rdd_kv.countByKey()\n",
        "print(\"countByKey:\", dict(key_counts))"
      ],
      "metadata": {
        "colab": {
          "base_uri": "https://localhost:8080/"
        },
        "id": "HiV50sbwmcXA",
        "outputId": "826f2c67-ced0-42ae-f222-6bccb08de2fa"
      },
      "execution_count": 16,
      "outputs": [
        {
          "output_type": "stream",
          "name": "stdout",
          "text": [
            "countByKey: {'a': 2, 'b': 2, 'c': 1}\n"
          ]
        }
      ]
    },
    {
      "cell_type": "code",
      "source": [
        "# Ejemplo 10: foreach\n",
        "# Aplica una función a cada elemento del RDD.\n",
        "def print_element(x):\n",
        "    print(f\"Elemento: {x}\")"
      ],
      "metadata": {
        "id": "nOaFiD9omffA"
      },
      "execution_count": 17,
      "outputs": []
    },
    {
      "cell_type": "code",
      "source": [
        "# foreach no devuelve resultados, pero ejecuta la función en cada elemento\n",
        "rdd.foreach(print_element)"
      ],
      "metadata": {
        "id": "ALVEslBLmhXo"
      },
      "execution_count": 18,
      "outputs": []
    }
  ]
}