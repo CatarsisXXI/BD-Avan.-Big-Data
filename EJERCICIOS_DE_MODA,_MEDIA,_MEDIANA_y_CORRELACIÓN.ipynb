{
  "nbformat": 4,
  "nbformat_minor": 0,
  "metadata": {
    "colab": {
      "provenance": [],
      "authorship_tag": "ABX9TyOeMR+m22XYcmrBxMBFexbv",
      "include_colab_link": true
    },
    "kernelspec": {
      "name": "python3",
      "display_name": "Python 3"
    },
    "language_info": {
      "name": "python"
    }
  },
  "cells": [
    {
      "cell_type": "markdown",
      "metadata": {
        "id": "view-in-github",
        "colab_type": "text"
      },
      "source": [
        "<a href=\"https://colab.research.google.com/github/CatarsisXXI/BD-Avan.-Big-Data/blob/main/EJERCICIOS_DE_MODA%2C_MEDIA%2C_MEDIANA_y_CORRELACI%C3%93N.ipynb\" target=\"_parent\"><img src=\"https://colab.research.google.com/assets/colab-badge.svg\" alt=\"Open In Colab\"/></a>"
      ]
    },
    {
      "cell_type": "code",
      "execution_count": 1,
      "metadata": {
        "colab": {
          "base_uri": "https://localhost:8080/"
        },
        "id": "PGqM9hIwoW7H",
        "outputId": "ff3c0c5a-b529-40b8-814a-46b82e6b48da"
      },
      "outputs": [
        {
          "output_type": "stream",
          "name": "stdout",
          "text": [
            "Requirement already satisfied: pyspark in /usr/local/lib/python3.10/dist-packages (3.5.3)\n",
            "Requirement already satisfied: py4j==0.10.9.7 in /usr/local/lib/python3.10/dist-packages (from pyspark) (0.10.9.7)\n"
          ]
        }
      ],
      "source": [
        "pip install pyspark\n"
      ]
    },
    {
      "cell_type": "code",
      "source": [
        "from pyspark.sql import SparkSession\n",
        "\n",
        "# Crear una sesión de Spark\n",
        "spark = SparkSession.builder.appName(\"EstadisticasBasicas\").getOrCreate()\n"
      ],
      "metadata": {
        "id": "_nf4q3AGol7H"
      },
      "execution_count": 2,
      "outputs": []
    },
    {
      "cell_type": "code",
      "source": [
        "# Datos de ejemplo\n",
        "data = [\n",
        "    (\"Producto_A\", 100, 10.0),\n",
        "    (\"Producto_B\", 150, 15.0),\n",
        "    (\"Producto_C\", 200, 20.0),\n",
        "    (\"Producto_D\", 150, 25.0),\n",
        "    (\"Producto_E\", 300, 30.0),\n",
        "    (\"Producto_F\", 100, 35.0),\n",
        "    (\"Producto_G\", 250, 40.0),\n",
        "    (\"Producto_H\", 300, 45.0),\n",
        "]\n",
        "\n",
        "# Crear el DataFrame\n",
        "columns = [\"Product\", \"Sales\", \"Price\"]\n",
        "df = spark.createDataFrame(data, schema=columns)\n",
        "df.show()\n"
      ],
      "metadata": {
        "colab": {
          "base_uri": "https://localhost:8080/"
        },
        "id": "yShIY0PCosBv",
        "outputId": "648c6f03-f16d-40c5-d60b-a8beea7df185"
      },
      "execution_count": 3,
      "outputs": [
        {
          "output_type": "stream",
          "name": "stdout",
          "text": [
            "+----------+-----+-----+\n",
            "|   Product|Sales|Price|\n",
            "+----------+-----+-----+\n",
            "|Producto_A|  100| 10.0|\n",
            "|Producto_B|  150| 15.0|\n",
            "|Producto_C|  200| 20.0|\n",
            "|Producto_D|  150| 25.0|\n",
            "|Producto_E|  300| 30.0|\n",
            "|Producto_F|  100| 35.0|\n",
            "|Producto_G|  250| 40.0|\n",
            "|Producto_H|  300| 45.0|\n",
            "+----------+-----+-----+\n",
            "\n"
          ]
        }
      ]
    },
    {
      "cell_type": "code",
      "source": [
        "# Calcular la media de las ventas\n",
        "from pyspark.sql.functions import mean\n",
        "\n",
        "media_ventas = df.select(mean(\"Sales\")).collect()[0][0]\n",
        "print(f\"La media de las ventas es: {media_ventas}\")\n"
      ],
      "metadata": {
        "colab": {
          "base_uri": "https://localhost:8080/"
        },
        "id": "HSFc55jooxyH",
        "outputId": "f08443f5-129b-4a1a-e2e6-8876c6e075ff"
      },
      "execution_count": 4,
      "outputs": [
        {
          "output_type": "stream",
          "name": "stdout",
          "text": [
            "La media de las ventas es: 193.75\n"
          ]
        }
      ]
    },
    {
      "cell_type": "code",
      "source": [
        "# Calcular la mediana de las ventas\n",
        "from pyspark.sql.functions import col, expr\n",
        "\n",
        "# Ordenar el DataFrame\n",
        "df_sorted = df.orderBy(\"Sales\")\n",
        "# Calcular el índice de la mediana\n",
        "middle_index = int(df_sorted.count() / 2)\n",
        "# Calcular la mediana\n",
        "if df_sorted.count() % 2 == 0:\n",
        "    median_ventas = df_sorted.collect()[middle_index - 1][1] + df_sorted.collect()[middle_index][1] / 2.0\n",
        "else:\n",
        "    median_ventas = df_sorted.collect()[middle_index][1]\n",
        "print(f\"La mediana de las ventas es: {median_ventas}\")\n"
      ],
      "metadata": {
        "colab": {
          "base_uri": "https://localhost:8080/"
        },
        "id": "cYDiYevso0y_",
        "outputId": "237877a0-7e00-4a58-f065-80298d8c6536"
      },
      "execution_count": 5,
      "outputs": [
        {
          "output_type": "stream",
          "name": "stdout",
          "text": [
            "La mediana de las ventas es: 250.0\n"
          ]
        }
      ]
    },
    {
      "cell_type": "code",
      "source": [
        "# Calcular la moda de las ventas\n",
        "from pyspark.sql.functions import count\n",
        "\n",
        "# Contar la frecuencia de cada valor\n",
        "df_mode = df.groupBy(\"Sales\").count().orderBy(col(\"count\").desc())\n",
        "moda_ventas = df_mode.collect()[0][0]\n",
        "print(f\"La moda de las ventas es: {moda_ventas}\")\n"
      ],
      "metadata": {
        "colab": {
          "base_uri": "https://localhost:8080/"
        },
        "id": "qDPnAmQWo4Nw",
        "outputId": "31ad67e7-d6d0-4cd0-de9d-e61e2e964f74"
      },
      "execution_count": 6,
      "outputs": [
        {
          "output_type": "stream",
          "name": "stdout",
          "text": [
            "La moda de las ventas es: 150\n"
          ]
        }
      ]
    },
    {
      "cell_type": "code",
      "source": [
        "# Calcular la correlación entre ventas y precio\n",
        "correlacion = df.stat.corr(\"Sales\", \"Price\")\n",
        "print(f\"La correlación entre las ventas y el precio es: {correlacion}\")\n"
      ],
      "metadata": {
        "colab": {
          "base_uri": "https://localhost:8080/"
        },
        "id": "eKjnMvlro6S_",
        "outputId": "62b0c374-8281-43ed-d754-c70df5301d31"
      },
      "execution_count": 7,
      "outputs": [
        {
          "output_type": "stream",
          "name": "stdout",
          "text": [
            "La correlación entre las ventas y el precio es: 0.6215412020000479\n"
          ]
        }
      ]
    },
    {
      "cell_type": "code",
      "source": [
        "#Explicación del Caso\n",
        "#Supongamos que estamos trabajando para una cadena de tiendas que vende diferentes productos. Queremos analizar cómo se comportan las ventas de estos productos en función de su precio.\n",
        "#Para ello, hemos calculado la media, mediana y moda de las ventas, así como la correlación entre ventas y precio. Estos cálculos nos ayudarán a entender mejor el comportamiento de las ventas y a tomar decisiones más informadas sobre la fijación de precios y el inventario.\n",
        "#Media de las ventas: Proporciona el valor promedio de las ventas, ayudándonos a entender el rendimiento general de los productos.\n",
        "#Mediana de las ventas: Nos da una idea del punto medio de las ventas, útil para entender la distribución de los datos sin ser influenciados por valores extremos.\n",
        "#Moda de las ventas: Indica el valor de ventas más común, lo que puede ser útil para identificar patrones de ventas frecuentes.\n",
        "#Correlación: Nos muestra la relación entre el precio de los productos y sus ventas. Si la correlación es alta, indica que el precio influye significativamente en las ventas.\n",
        "#Estos análisis son esenciales para hacer ajustes estratégicos en precios, promociones y gestión de inventarios."
      ],
      "metadata": {
        "id": "wGfK_Q3eo-FP"
      },
      "execution_count": 8,
      "outputs": []
    }
  ]
}