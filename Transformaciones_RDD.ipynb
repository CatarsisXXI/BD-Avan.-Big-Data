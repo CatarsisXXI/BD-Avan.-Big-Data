{
  "nbformat": 4,
  "nbformat_minor": 0,
  "metadata": {
    "colab": {
      "provenance": [],
      "authorship_tag": "ABX9TyMykjKWz5TncVkxo0PzfU8v",
      "include_colab_link": true
    },
    "kernelspec": {
      "name": "python3",
      "display_name": "Python 3"
    },
    "language_info": {
      "name": "python"
    }
  },
  "cells": [
    {
      "cell_type": "markdown",
      "metadata": {
        "id": "view-in-github",
        "colab_type": "text"
      },
      "source": [
        "<a href=\"https://colab.research.google.com/github/CatarsisXXI/BD-Avan.-Big-Data/blob/main/Transformaciones_RDD.ipynb\" target=\"_parent\"><img src=\"https://colab.research.google.com/assets/colab-badge.svg\" alt=\"Open In Colab\"/></a>"
      ]
    },
    {
      "cell_type": "code",
      "execution_count": 2,
      "metadata": {
        "colab": {
          "base_uri": "https://localhost:8080/"
        },
        "id": "p27WCiSdhwk2",
        "outputId": "6fb3a089-0259-4829-e072-feb63a83d9e1"
      },
      "outputs": [
        {
          "output_type": "stream",
          "name": "stdout",
          "text": [
            "Requirement already satisfied: pyspark in /usr/local/lib/python3.10/dist-packages (3.5.3)\n",
            "Requirement already satisfied: py4j==0.10.9.7 in /usr/local/lib/python3.10/dist-packages (from pyspark) (0.10.9.7)\n"
          ]
        }
      ],
      "source": [
        "pip install pyspark"
      ]
    },
    {
      "cell_type": "code",
      "source": [
        "from pyspark.context import SparkContext"
      ],
      "metadata": {
        "id": "yWMMn18Ciw76"
      },
      "execution_count": 3,
      "outputs": []
    },
    {
      "cell_type": "code",
      "source": [
        "from pyspark import SparkContext\n",
        "from pyspark import SparkConf"
      ],
      "metadata": {
        "id": "kHiWdjydi094"
      },
      "execution_count": 8,
      "outputs": []
    },
    {
      "cell_type": "code",
      "source": [
        "from pyspark.sql import *\n",
        "from pyspark.sql.functions import *"
      ],
      "metadata": {
        "id": "sHDYVWjUi4uX"
      },
      "execution_count": 5,
      "outputs": []
    },
    {
      "cell_type": "code",
      "source": [
        "conf = SparkConf().setAppName(\"RDD Examples\").setMaster(\"local\")\n",
        "sc = SparkContext(conf=conf)"
      ],
      "metadata": {
        "collapsed": true,
        "id": "-1Rk2Q3djEV3"
      },
      "execution_count": null,
      "outputs": []
    },
    {
      "cell_type": "code",
      "source": [
        "# Ejemplo 1: map\n",
        "rdd = sc.parallelize([1, 2, 3, 4])\n",
        "mapped_rdd = rdd.map(lambda x: x * 2)\n",
        "print(\"map:\", mapped_rdd.collect())"
      ],
      "metadata": {
        "colab": {
          "base_uri": "https://localhost:8080/"
        },
        "id": "gfi9Z-ZQjrPR",
        "outputId": "cf78c30f-fc3a-4132-8839-f82e62cf1978"
      },
      "execution_count": 12,
      "outputs": [
        {
          "output_type": "stream",
          "name": "stdout",
          "text": [
            "map: [2, 4, 6, 8]\n"
          ]
        }
      ]
    },
    {
      "cell_type": "code",
      "source": [
        "# Ejemplo 2: filter\n",
        "filtered_rdd = rdd.filter(lambda x: x % 2 == 0)\n",
        "print(\"filter:\", filtered_rdd.collect())"
      ],
      "metadata": {
        "colab": {
          "base_uri": "https://localhost:8080/"
        },
        "id": "jHpI0ve8jz14",
        "outputId": "43e2db07-f1bd-4d56-8b36-547d6bc57156"
      },
      "execution_count": 13,
      "outputs": [
        {
          "output_type": "stream",
          "name": "stdout",
          "text": [
            "filter: [2, 4]\n"
          ]
        }
      ]
    },
    {
      "cell_type": "code",
      "source": [
        "# Ejemplo 3: flatMap\n",
        "rdd = sc.parallelize([\"hello world\", \"spark RDD\"])\n",
        "flatmapped_rdd = rdd.flatMap(lambda x: x.split(\" \"))\n",
        "print(\"flatMap:\", flatmapped_rdd.collect())"
      ],
      "metadata": {
        "colab": {
          "base_uri": "https://localhost:8080/"
        },
        "id": "bOOCRsAjj2wX",
        "outputId": "8e02b9b8-8c9a-463d-ec32-a66914ec2d08"
      },
      "execution_count": 14,
      "outputs": [
        {
          "output_type": "stream",
          "name": "stdout",
          "text": [
            "flatMap: ['hello', 'world', 'spark', 'RDD']\n"
          ]
        }
      ]
    },
    {
      "cell_type": "code",
      "source": [
        "# Ejemplo 4: mapPartitions\n",
        "def process_partition(partition):\n",
        "    return [x * 2 for x in partition]\n",
        "\n",
        "rdd = sc.parallelize([1, 2, 3, 4], 2)\n",
        "mapped_partitions = rdd.mapPartitions(process_partition)\n",
        "print(\"mapPartitions:\", mapped_partitions.collect())"
      ],
      "metadata": {
        "colab": {
          "base_uri": "https://localhost:8080/"
        },
        "id": "SzrYqeQ1j_7A",
        "outputId": "d2e047fb-f7f1-49cf-a3ad-ee365f62f838"
      },
      "execution_count": 15,
      "outputs": [
        {
          "output_type": "stream",
          "name": "stdout",
          "text": [
            "mapPartitions: [2, 4, 6, 8]\n"
          ]
        }
      ]
    },
    {
      "cell_type": "code",
      "source": [
        "# Ejemplo 5: sample\n",
        "sampled_rdd = rdd.sample(withReplacement=False, fraction=0.5)\n",
        "print(\"sample:\", sampled_rdd.collect())"
      ],
      "metadata": {
        "colab": {
          "base_uri": "https://localhost:8080/"
        },
        "id": "DLqExFFnkCRg",
        "outputId": "40b3ac7d-8484-4768-ef9a-2f09c502f50f"
      },
      "execution_count": 16,
      "outputs": [
        {
          "output_type": "stream",
          "name": "stdout",
          "text": [
            "sample: [3, 4]\n"
          ]
        }
      ]
    },
    {
      "cell_type": "code",
      "source": [
        "# Ejemplo 6: union\n",
        "rdd1 = sc.parallelize([1, 2, 3])\n",
        "rdd2 = sc.parallelize([3, 4, 5])\n",
        "union_rdd = rdd1.union(rdd2)\n",
        "print(\"union:\", union_rdd.collect())"
      ],
      "metadata": {
        "colab": {
          "base_uri": "https://localhost:8080/"
        },
        "id": "QZFTJqATkEqA",
        "outputId": "fa0a9281-7d72-457f-f8e1-cf2f59112ce3"
      },
      "execution_count": 17,
      "outputs": [
        {
          "output_type": "stream",
          "name": "stdout",
          "text": [
            "union: [1, 2, 3, 3, 4, 5]\n"
          ]
        }
      ]
    },
    {
      "cell_type": "code",
      "source": [
        "# Ejemplo 7: intersection\n",
        "intersection_rdd = rdd1.intersection(rdd2)\n",
        "print(\"intersection:\", intersection_rdd.collect())"
      ],
      "metadata": {
        "colab": {
          "base_uri": "https://localhost:8080/"
        },
        "id": "YW9h7b5qkHDA",
        "outputId": "e8f23a45-d3d0-42f1-8c13-8aa4fa698872"
      },
      "execution_count": 18,
      "outputs": [
        {
          "output_type": "stream",
          "name": "stdout",
          "text": [
            "intersection: [3]\n"
          ]
        }
      ]
    },
    {
      "cell_type": "code",
      "source": [
        "# Ejemplo 8: distinct\n",
        "distinct_rdd = union_rdd.distinct()\n",
        "print(\"distinct:\", distinct_rdd.collect())"
      ],
      "metadata": {
        "colab": {
          "base_uri": "https://localhost:8080/"
        },
        "id": "CA6lG4SrkSa4",
        "outputId": "d159a8ec-c4dc-4438-82fb-2654256ed4af"
      },
      "execution_count": 19,
      "outputs": [
        {
          "output_type": "stream",
          "name": "stdout",
          "text": [
            "distinct: [2, 4, 1, 3, 5]\n"
          ]
        }
      ]
    },
    {
      "cell_type": "code",
      "source": [
        "# Ejemplo 9: groupByKey\n",
        "rdd = sc.parallelize([(\"a\", 1), (\"b\", 2), (\"a\", 3)])\n",
        "grouped_rdd = rdd.groupByKey().mapValues(list)\n",
        "print(\"groupByKey:\", grouped_rdd.collect())"
      ],
      "metadata": {
        "colab": {
          "base_uri": "https://localhost:8080/"
        },
        "id": "bvJDcVpWkUIQ",
        "outputId": "9395e70f-405a-4b9b-d522-37c394dccb01"
      },
      "execution_count": 20,
      "outputs": [
        {
          "output_type": "stream",
          "name": "stdout",
          "text": [
            "groupByKey: [('a', [1, 3]), ('b', [2])]\n"
          ]
        }
      ]
    },
    {
      "cell_type": "code",
      "source": [
        "# Ejemplo 10: reduceByKey\n",
        "reduced_rdd = rdd.reduceByKey(lambda x, y: x + y)\n",
        "print(\"reduceByKey:\", reduced_rdd.collect())"
      ],
      "metadata": {
        "colab": {
          "base_uri": "https://localhost:8080/"
        },
        "id": "rH7hs9e6kWT5",
        "outputId": "c534fb18-8179-4287-9c09-95a9e7d0b473"
      },
      "execution_count": 21,
      "outputs": [
        {
          "output_type": "stream",
          "name": "stdout",
          "text": [
            "reduceByKey: [('a', 4), ('b', 2)]\n"
          ]
        }
      ]
    },
    {
      "cell_type": "code",
      "source": [
        "# Ejemplo 11: aggregateByKey\n",
        "rdd = sc.parallelize([(\"a\", 1), (\"a\", 2), (\"b\", 3), (\"b\", 4)])\n",
        "aggregated_rdd = rdd.aggregateByKey((0, 0),\n",
        "                                    lambda acc, val: (acc[0] + val, acc[1] + 1),\n",
        "                                    lambda acc1, acc2: (acc1[0] + acc2[0], acc1[1] + acc2[1]))\n",
        "print(\"aggregateByKey:\", aggregated_rdd.collect())"
      ],
      "metadata": {
        "colab": {
          "base_uri": "https://localhost:8080/"
        },
        "id": "wmtnKQCGkYVw",
        "outputId": "a742321c-717c-4eae-b52e-3c2e5e3c1534"
      },
      "execution_count": 22,
      "outputs": [
        {
          "output_type": "stream",
          "name": "stdout",
          "text": [
            "aggregateByKey: [('a', (3, 2)), ('b', (7, 2))]\n"
          ]
        }
      ]
    },
    {
      "cell_type": "code",
      "source": [
        "# Ejemplo 12: sortByKey\n",
        "rdd = sc.parallelize([(2, \"b\"), (1, \"a\"), (3, \"c\")])\n",
        "sorted_rdd = rdd.sortByKey()\n",
        "print(\"sortByKey:\", sorted_rdd.collect())"
      ],
      "metadata": {
        "colab": {
          "base_uri": "https://localhost:8080/"
        },
        "id": "z2zAip0dkaco",
        "outputId": "16599e5c-b562-4683-8aa7-11aff489148a"
      },
      "execution_count": 23,
      "outputs": [
        {
          "output_type": "stream",
          "name": "stdout",
          "text": [
            "sortByKey: [(1, 'a'), (2, 'b'), (3, 'c')]\n"
          ]
        }
      ]
    },
    {
      "cell_type": "code",
      "source": [
        "# Ejemplo 13: join\n",
        "rdd1 = sc.parallelize([(\"a\", 1), (\"b\", 2)])\n",
        "rdd2 = sc.parallelize([(\"a\", 3), (\"b\", 4), (\"c\", 5)])\n",
        "joined_rdd = rdd1.join(rdd2)\n",
        "print(\"join:\", joined_rdd.collect())"
      ],
      "metadata": {
        "colab": {
          "base_uri": "https://localhost:8080/"
        },
        "id": "dJwYRgfkkcmA",
        "outputId": "941effe3-5a1d-47a6-ebc8-060f20d3d21b"
      },
      "execution_count": 24,
      "outputs": [
        {
          "output_type": "stream",
          "name": "stdout",
          "text": [
            "join: [('b', (2, 4)), ('a', (1, 3))]\n"
          ]
        }
      ]
    },
    {
      "cell_type": "code",
      "source": [
        "# Ejemplo 14: cogroup\n",
        "cogrouped_rdd = rdd1.cogroup(rdd2)\n",
        "print(\"cogroup:\", cogrouped_rdd.mapValues(lambda x: (list(x[0]), list(x[1]))).collect())"
      ],
      "metadata": {
        "colab": {
          "base_uri": "https://localhost:8080/"
        },
        "id": "1xQLP5JlkgWI",
        "outputId": "fc0a35b0-def8-4295-dff9-c11df1393a81"
      },
      "execution_count": 25,
      "outputs": [
        {
          "output_type": "stream",
          "name": "stdout",
          "text": [
            "cogroup: [('b', ([2], [4])), ('c', ([], [5])), ('a', ([1], [3]))]\n"
          ]
        }
      ]
    },
    {
      "cell_type": "code",
      "source": [
        "# Ejemplo 15: cartesian\n",
        "rdd1 = sc.parallelize([1, 2])\n",
        "rdd2 = sc.parallelize([\"a\", \"b\"])\n",
        "cartesian_rdd = rdd1.cartesian(rdd2)\n",
        "print(\"cartesian:\", cartesian_rdd.collect())"
      ],
      "metadata": {
        "colab": {
          "base_uri": "https://localhost:8080/"
        },
        "id": "zjBUVVItki5p",
        "outputId": "6a02284f-cf1e-4471-ee86-610981de103c"
      },
      "execution_count": 26,
      "outputs": [
        {
          "output_type": "stream",
          "name": "stdout",
          "text": [
            "cartesian: [(1, 'a'), (1, 'b'), (2, 'a'), (2, 'b')]\n"
          ]
        }
      ]
    },
    {
      "cell_type": "code",
      "source": [
        "# Ejemplo 16: pipe\n",
        "rdd = sc.parallelize([\"hello\", \"world\"])\n",
        "piped_rdd = rdd.pipe(\"echo\")\n",
        "print(\"pipe:\", piped_rdd.collect())"
      ],
      "metadata": {
        "colab": {
          "base_uri": "https://localhost:8080/"
        },
        "id": "6td5gixCkoAp",
        "outputId": "f60e3cc7-5084-4e16-e80d-71e3db22e744"
      },
      "execution_count": 27,
      "outputs": [
        {
          "output_type": "stream",
          "name": "stdout",
          "text": [
            "pipe: ['']\n"
          ]
        }
      ]
    },
    {
      "cell_type": "code",
      "source": [
        "# Ejemplo 17: coalesce\n",
        "rdd = sc.parallelize([1, 2, 3, 4, 5, 6], 3)\n",
        "coalesced_rdd = rdd.coalesce(2)\n",
        "print(\"coalesce:\", coalesced_rdd.getNumPartitions())"
      ],
      "metadata": {
        "colab": {
          "base_uri": "https://localhost:8080/"
        },
        "id": "1jJQhwX0kpuI",
        "outputId": "366bd6d6-19a9-479d-d5b9-a1861026aab9"
      },
      "execution_count": 28,
      "outputs": [
        {
          "output_type": "stream",
          "name": "stdout",
          "text": [
            "coalesce: 2\n"
          ]
        }
      ]
    },
    {
      "cell_type": "code",
      "source": [
        "# Ejemplo 18: repartition\n",
        "repartitioned_rdd = rdd.repartition(4)\n",
        "print(\"repartition:\", repartitioned_rdd.getNumPartitions())"
      ],
      "metadata": {
        "colab": {
          "base_uri": "https://localhost:8080/"
        },
        "id": "b4ns-V2rktNg",
        "outputId": "766fe93b-8295-4972-dfd5-b552251dc4ca"
      },
      "execution_count": 29,
      "outputs": [
        {
          "output_type": "stream",
          "name": "stdout",
          "text": [
            "repartition: 4\n"
          ]
        }
      ]
    },
    {
      "cell_type": "code",
      "source": [
        "# Ejemplo 19: repartitionAndSortWithinPartitions\n",
        "rdd = sc.parallelize([(3, \"c\"), (1, \"a\"), (2, \"b\"), (4, \"d\")])\n",
        "partitioned_sorted_rdd = rdd.repartitionAndSortWithinPartitions(2)\n",
        "print(\"repartitionAndSortWithinPartitions:\", partitioned_sorted_rdd.collect())"
      ],
      "metadata": {
        "colab": {
          "base_uri": "https://localhost:8080/"
        },
        "id": "591HKbzQkveR",
        "outputId": "6970e35e-f395-4509-ed5d-e80335fbda38"
      },
      "execution_count": 30,
      "outputs": [
        {
          "output_type": "stream",
          "name": "stdout",
          "text": [
            "repartitionAndSortWithinPartitions: [(2, 'b'), (4, 'd'), (1, 'a'), (3, 'c')]\n"
          ]
        }
      ]
    }
  ]
}